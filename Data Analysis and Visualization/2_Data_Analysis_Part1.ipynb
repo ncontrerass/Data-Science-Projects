{
 "cells": [
  {
   "cell_type": "markdown",
   "metadata": {},
   "source": [
    "# Data Analysis - Part#1"
   ]
  },
  {
   "cell_type": "markdown",
   "metadata": {},
   "source": [
    "### Objective: \n",
    "Apply data analysis concepts.\n",
    "\n",
    "### Author: \n",
    "Nathalia Contreras\n",
    "\n",
    "### Dataset used: \n",
    "[Amazon sample dataset](https://s3.amazonaws.com/amazon-reviews-pds/tsv/amazon_reviews_us_Gift_Card_v1_00.tsv.gz)\n",
    "### Dataset size: \n",
    "11.6 MB"
   ]
  },
  {
   "cell_type": "markdown",
   "metadata": {},
   "source": [
    "### Topic: Reading Data in Python"
   ]
  },
  {
   "cell_type": "markdown",
   "metadata": {},
   "source": [
    "**a) Read Data**"
   ]
  },
  {
   "cell_type": "code",
   "execution_count": 1,
   "metadata": {},
   "outputs": [],
   "source": [
    "#Defining path where data file is\n",
    "path = './amazon_reviews_us_Gift_Card_v1_00.tsv.gz'"
   ]
  },
  {
   "cell_type": "code",
   "execution_count": 2,
   "metadata": {},
   "outputs": [],
   "source": [
    "#Library to read zipped file\n",
    "import gzip"
   ]
  },
  {
   "cell_type": "code",
   "execution_count": 3,
   "metadata": {},
   "outputs": [],
   "source": [
    "#Open data\n",
    "f = gzip.open(path, 'rt') #rt means read as text"
   ]
  },
  {
   "cell_type": "code",
   "execution_count": 4,
   "metadata": {},
   "outputs": [],
   "source": [
    "#Read first line of dataset\n",
    "#use next() or readline()\n",
    "columns=f.readline() \n",
    "\n",
    "#First line corresponds to the HEADERS"
   ]
  },
  {
   "cell_type": "markdown",
   "metadata": {},
   "source": [
    "Notice that everything is separated by '\\t' because it's a TSV file. Plus there is '\\n'"
   ]
  },
  {
   "cell_type": "code",
   "execution_count": 5,
   "metadata": {},
   "outputs": [
    {
     "data": {
      "text/plain": [
       "['marketplace',\n",
       " 'customer_id',\n",
       " 'review_id',\n",
       " 'product_id',\n",
       " 'product_parent',\n",
       " 'product_title',\n",
       " 'product_category',\n",
       " 'star_rating',\n",
       " 'helpful_votes',\n",
       " 'total_votes',\n",
       " 'vine',\n",
       " 'verified_purchase',\n",
       " 'review_headline',\n",
       " 'review_body',\n",
       " 'review_date']"
      ]
     },
     "execution_count": 5,
     "metadata": {},
     "output_type": "execute_result"
    }
   ],
   "source": [
    "#Remove spaces and '\\t'\n",
    "columns = columns.strip().split('\\t') #Read headers, remove spaces, and separate data where '\\t'\n",
    "columns"
   ]
  },
  {
   "cell_type": "markdown",
   "metadata": {},
   "source": [
    "**b) Organising Data**"
   ]
  },
  {
   "cell_type": "code",
   "execution_count": 6,
   "metadata": {},
   "outputs": [],
   "source": [
    "#Empty list. This will store all data\n",
    "lines = []\n",
    "#Iterate line by line in dataset\n",
    "for line in f:\n",
    "    fields = line.strip().split('\\t')\n",
    "    lines.append(fields)"
   ]
  },
  {
   "cell_type": "code",
   "execution_count": 7,
   "metadata": {},
   "outputs": [],
   "source": [
    "#Empty list stores data lines and headers\n",
    "dataset = []\n",
    "#Match lines[] to headers\n",
    "for line in lines:\n",
    "# Convert to key-value pairs\n",
    "    d = dict(zip(columns, line))\n",
    "    # Convert strings to integers for some fields:\n",
    "    dataset.append(d)"
   ]
  },
  {
   "cell_type": "code",
   "execution_count": 8,
   "metadata": {},
   "outputs": [
    {
     "data": {
      "text/plain": [
       "{'marketplace': 'US',\n",
       " 'customer_id': '24371595',\n",
       " 'review_id': 'R27ZP1F1CD0C3Y',\n",
       " 'product_id': 'B004LLIL5A',\n",
       " 'product_parent': '346014806',\n",
       " 'product_title': 'Amazon eGift Card - Celebrate',\n",
       " 'product_category': 'Gift Card',\n",
       " 'star_rating': '5',\n",
       " 'helpful_votes': '0',\n",
       " 'total_votes': '0',\n",
       " 'vine': 'N',\n",
       " 'verified_purchase': 'Y',\n",
       " 'review_headline': 'Five Stars',\n",
       " 'review_body': 'Great birthday gift for a young adult.',\n",
       " 'review_date': '2015-08-31'}"
      ]
     },
     "execution_count": 8,
     "metadata": {},
     "output_type": "execute_result"
    }
   ],
   "source": [
    "#Print dataset first entry\n",
    "dataset[0]"
   ]
  },
  {
   "cell_type": "markdown",
   "metadata": {},
   "source": [
    "**c) Another way to read data and organise it**\n",
    "\n",
    "Using CSV library"
   ]
  },
  {
   "cell_type": "code",
   "execution_count": 9,
   "metadata": {},
   "outputs": [],
   "source": [
    "import csv\n",
    "import gzip\n",
    "\n",
    "full_lines = csv.reader(gzip.open(path, 'rt'), delimiter = '\\t')\n",
    "dataset = []\n",
    "\n",
    "#Append lines to dataset\n",
    "first = True\n",
    "for line in full_lines:\n",
    "    #First line is Header\n",
    "    if first:\n",
    "        header = line\n",
    "        first = False\n",
    "    else:\n",
    "        d = dict(zip(header, line))\n",
    "        dataset.append(d)"
   ]
  },
  {
   "cell_type": "code",
   "execution_count": 10,
   "metadata": {},
   "outputs": [
    {
     "data": {
      "text/plain": [
       "{'marketplace': 'US',\n",
       " 'customer_id': '24371595',\n",
       " 'review_id': 'R27ZP1F1CD0C3Y',\n",
       " 'product_id': 'B004LLIL5A',\n",
       " 'product_parent': '346014806',\n",
       " 'product_title': 'Amazon eGift Card - Celebrate',\n",
       " 'product_category': 'Gift Card',\n",
       " 'star_rating': '5',\n",
       " 'helpful_votes': '0',\n",
       " 'total_votes': '0',\n",
       " 'vine': 'N',\n",
       " 'verified_purchase': 'Y',\n",
       " 'review_headline': 'Five Stars',\n",
       " 'review_body': 'Great birthday gift for a young adult.',\n",
       " 'review_date': '2015-08-31'}"
      ]
     },
     "execution_count": 10,
     "metadata": {},
     "output_type": "execute_result"
    }
   ],
   "source": [
    "#1rst row\n",
    "dataset[0] "
   ]
  },
  {
   "cell_type": "markdown",
   "metadata": {},
   "source": [
    "**d) Pre-processing Data**"
   ]
  },
  {
   "cell_type": "code",
   "execution_count": 11,
   "metadata": {},
   "outputs": [],
   "source": [
    "#Define empty dataset2 to store filtered dataset\n",
    "dataset2 = []\n",
    "#Store columns in variable 'col'\n",
    "col = columns\n",
    "#Store lines (all data) in variable 'ln'\n",
    "ln = lines\n",
    "#Append lines to dataset\n",
    "for line in ln:\n",
    "    d1 = dict(zip(col, line)) #Convert to key-value pair\n",
    "    #Capture filtered fields\n",
    "    d2 = {}\n",
    "    for field in ['marketplace', 'product_title', 'star_rating','review_date']: #Define required fields\n",
    "        d2[field] = d1[field]\n",
    "    dataset2.append(d2)"
   ]
  },
  {
   "cell_type": "code",
   "execution_count": 12,
   "metadata": {},
   "outputs": [
    {
     "data": {
      "text/plain": [
       "149086"
      ]
     },
     "execution_count": 12,
     "metadata": {},
     "output_type": "execute_result"
    }
   ],
   "source": [
    "#Check the length of new dataset\n",
    "len(dataset2)"
   ]
  },
  {
   "cell_type": "code",
   "execution_count": 13,
   "metadata": {},
   "outputs": [
    {
     "data": {
      "text/plain": [
       "{'marketplace': 'US',\n",
       " 'product_title': 'Amazon Gift Card - Print - Happy Birthday (Birds)',\n",
       " 'star_rating': '5',\n",
       " 'review_date': '2015-08-31'}"
      ]
     },
     "execution_count": 13,
     "metadata": {},
     "output_type": "execute_result"
    }
   ],
   "source": [
    "#Print 5th entry of new dataset\n",
    "dataset2[5]"
   ]
  },
  {
   "cell_type": "markdown",
   "metadata": {},
   "source": [
    "**e) Basic Statistics**"
   ]
  },
  {
   "cell_type": "code",
   "execution_count": 14,
   "metadata": {},
   "outputs": [],
   "source": [
    "#Define empty dataset3 to store filtered dataset\n",
    "dataset3 = []\n",
    "col = columns\n",
    "ln = lines\n",
    "\n",
    "for line in ln:\n",
    "    d1 = dict(zip(col, line)) #Convert to key-value pair\n",
    "    # Converting Data Types:     \n",
    "    d1['star_rating'] = int(d['star_rating'])\n",
    "    d1['helpful_votes'] = int(d['helpful_votes'])\n",
    "    d1['total_votes'] = int(d['total_votes'])\n",
    "    \n",
    "    d2 = {}\n",
    "    for field in ['customer_id', 'product_id','star_rating','helpful_votes',\n",
    "                  'total_votes','verified_purchase','review_date']: \n",
    "        d2[field] = d1[field]\n",
    "    dataset3.append(d2)"
   ]
  },
  {
   "cell_type": "markdown",
   "metadata": {},
   "source": [
    "**e.1) Calculate total number of reviews**"
   ]
  },
  {
   "cell_type": "code",
   "execution_count": 15,
   "metadata": {},
   "outputs": [
    {
     "data": {
      "text/plain": [
       "149086"
      ]
     },
     "execution_count": 15,
     "metadata": {},
     "output_type": "execute_result"
    }
   ],
   "source": [
    "#Number of Gift Card Reviews in dataset\n",
    "number_reviews = len(dataset3)\n",
    "number_reviews"
   ]
  },
  {
   "cell_type": "markdown",
   "metadata": {},
   "source": [
    "**e.2) Calculate Average star_rating of all reviews**"
   ]
  },
  {
   "cell_type": "code",
   "execution_count": 16,
   "metadata": {},
   "outputs": [
    {
     "data": {
      "text/plain": [
       "5.0"
      ]
     },
     "execution_count": 16,
     "metadata": {},
     "output_type": "execute_result"
    }
   ],
   "source": [
    "#Average star_rating of all reviews\n",
    "avg = 0\n",
    "for x in dataset3:\n",
    "    avg += x['star_rating'] #star_rating for each review\n",
    "avg /= number_reviews #Total number of reviews\n",
    "avg"
   ]
  },
  {
   "cell_type": "markdown",
   "metadata": {},
   "source": [
    "**e.3) Another way to calculate the average star_rating of all reviews**"
   ]
  },
  {
   "cell_type": "code",
   "execution_count": 17,
   "metadata": {},
   "outputs": [
    {
     "data": {
      "text/plain": [
       "5.0"
      ]
     },
     "execution_count": 17,
     "metadata": {},
     "output_type": "execute_result"
    }
   ],
   "source": [
    "#Another way to calculate the average star_rating\n",
    "ratings = [x['star_rating'] for x in dataset3]\n",
    "#Calculate average\n",
    "avg = sum(ratings)/len(ratings)\n",
    "avg"
   ]
  },
  {
   "cell_type": "markdown",
   "metadata": {},
   "source": [
    "**e.4) Calculate unique star_rating values of all reviews**"
   ]
  },
  {
   "cell_type": "code",
   "execution_count": 18,
   "metadata": {},
   "outputs": [
    {
     "data": {
      "text/plain": [
       "1"
      ]
     },
     "execution_count": 18,
     "metadata": {},
     "output_type": "execute_result"
    }
   ],
   "source": [
    "#Unique star_rating of reviews\n",
    "numLowStar = set() #This function avoids element repetition + order in asc\n",
    "for x in dataset3:\n",
    "    if x['star_rating'] <= 5:\n",
    "        numLowStar.add(x['star_rating'])\n",
    "#Check \n",
    "len(numLowStar)"
   ]
  },
  {
   "cell_type": "markdown",
   "metadata": {},
   "source": [
    "The length=1 means that there is only 1 unique star rating."
   ]
  },
  {
   "cell_type": "code",
   "execution_count": 19,
   "metadata": {},
   "outputs": [
    {
     "data": {
      "text/plain": [
       "{5}"
      ]
     },
     "execution_count": 19,
     "metadata": {},
     "output_type": "execute_result"
    }
   ],
   "source": [
    "#Printing\n",
    "numLowStar"
   ]
  },
  {
   "cell_type": "markdown",
   "metadata": {},
   "source": [
    "The above value means there isn't a star_rating less than 5 stars. \n",
    "In other words, all reviewers have given 5 stars, hence that is the only value."
   ]
  },
  {
   "cell_type": "markdown",
   "metadata": {},
   "source": [
    "**e.5) Calculate how many unique products were reviewed**"
   ]
  },
  {
   "cell_type": "code",
   "execution_count": 20,
   "metadata": {},
   "outputs": [
    {
     "name": "stdout",
     "output_type": "stream",
     "text": [
      "1780\n"
     ]
    }
   ],
   "source": [
    "#Unique product_id\n",
    "numprod = set() #This function avoids element repetition + order in asc\n",
    "for x in dataset3:\n",
    "    if x['product_id']:\n",
    "        numprod.add(x['product_id'])\n",
    "#Check \n",
    "print(len(numprod))"
   ]
  },
  {
   "cell_type": "markdown",
   "metadata": {},
   "source": [
    "The above value means there are 1780 unique products in this dataset that have been reviewed."
   ]
  },
  {
   "cell_type": "markdown",
   "metadata": {},
   "source": [
    "**e.6) Another way to count total ratings**"
   ]
  },
  {
   "cell_type": "code",
   "execution_count": 21,
   "metadata": {},
   "outputs": [
    {
     "data": {
      "text/plain": [
       "defaultdict(int, {5: 149086})"
      ]
     },
     "execution_count": 21,
     "metadata": {},
     "output_type": "execute_result"
    }
   ],
   "source": [
    "#Another way to count ratings\n",
    "from collections import defaultdict\n",
    "#Define dictionary of integer values\n",
    "count_ratings = defaultdict(int)\n",
    "#Iterate in dataset\n",
    "for x in dataset3:\n",
    "    count_ratings[x['star_rating']] += 1\n",
    "\n",
    "#Printing\n",
    "count_ratings"
   ]
  },
  {
   "cell_type": "markdown",
   "metadata": {},
   "source": [
    "The previous counting confirms that only 5-stars reviews exist."
   ]
  },
  {
   "cell_type": "markdown",
   "metadata": {},
   "source": [
    "**e.7) Calculate total number of verified and non-verified purchases**"
   ]
  },
  {
   "cell_type": "code",
   "execution_count": 22,
   "metadata": {},
   "outputs": [
    {
     "data": {
      "text/plain": [
       "defaultdict(int, {'Y': 136042, 'N': 13044})"
      ]
     },
     "execution_count": 22,
     "metadata": {},
     "output_type": "execute_result"
    }
   ],
   "source": [
    "#Count verified and non-verified purchases\n",
    "\n",
    "#from collections import defaultdict #no need to import again if imported before\n",
    "\n",
    "#Define dictionary of integer values\n",
    "count_purchases = defaultdict(int)\n",
    "#Iterate in dataset\n",
    "for x in dataset3:\n",
    "    count_purchases[x['verified_purchase']] += 1\n",
    "\n",
    "#Printing\n",
    "count_purchases"
   ]
  },
  {
   "cell_type": "markdown",
   "metadata": {},
   "source": [
    "**e.8) Calculate the most popular product / the most reviewed**"
   ]
  },
  {
   "cell_type": "code",
   "execution_count": 23,
   "metadata": {},
   "outputs": [
    {
     "data": {
      "text/plain": [
       "[(3440, 'BT00CTOUNS'),\n",
       " (4315, 'B00IX1I3G6'),\n",
       " (5043, 'BT00DDVMVQ'),\n",
       " (6087, 'B00A48G0D4'),\n",
       " (28879, 'B004LLIKVU')]"
      ]
     },
     "execution_count": 23,
     "metadata": {},
     "output_type": "execute_result"
    }
   ],
   "source": [
    "#Calculate the most popular product / the most reviewed\n",
    "\n",
    "#Define dictionary of integer values\n",
    "count_popular = defaultdict(int)\n",
    "#Iterate in dataset\n",
    "for x in dataset3:\n",
    "    count_popular[x['product_id']] += 1\n",
    "\n",
    "#Transform to list\n",
    "total_count = [(count_popular[p],p) for p in count_popular]\n",
    "#Sort\n",
    "total_count.sort()\n",
    "#Printing 5 most popular products\n",
    "total_count[-5:]\n",
    "\n",
    "#This can complement e.5 section"
   ]
  },
  {
   "cell_type": "markdown",
   "metadata": {},
   "source": [
    "**Author: [Nathalia Contreras](https://github.com/ncontrerass)**"
   ]
  },
  {
   "cell_type": "code",
   "execution_count": null,
   "metadata": {},
   "outputs": [],
   "source": []
  }
 ],
 "metadata": {
  "kernelspec": {
   "display_name": "Python",
   "language": "python",
   "name": "conda-env-python-py"
  },
  "language_info": {
   "codemirror_mode": {
    "name": "ipython",
    "version": 3
   },
   "file_extension": ".py",
   "mimetype": "text/x-python",
   "name": "python",
   "nbconvert_exporter": "python",
   "pygments_lexer": "ipython3",
   "version": "3.6.7"
  }
 },
 "nbformat": 4,
 "nbformat_minor": 4
}
